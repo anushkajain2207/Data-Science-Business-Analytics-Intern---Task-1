{
  "cells": [
    {
      "cell_type": "markdown",
      "metadata": {
        "id": "view-in-github",
        "colab_type": "text"
      },
      "source": [
        "<a href=\"https://colab.research.google.com/github/anushkajain2207/Data-Science-Business-Analytics-Intern---Task-1/blob/main/Data_Science_and_Business_Analytics_Task_1.ipynb\" target=\"_parent\"><img src=\"https://colab.research.google.com/assets/colab-badge.svg\" alt=\"Open In Colab\"/></a>"
      ]
    },
    {
      "cell_type": "markdown",
      "metadata": {
        "id": "qoVISgoyL67M"
      },
      "source": [
        "# Data Science and Business Analytics: Task 1"
      ]
    },
    {
      "cell_type": "markdown",
      "metadata": {
        "id": "Di22N9xJL67P"
      },
      "source": [
        "Task Details:\n",
        "Predict the percentage of a student based on the number of study hours."
      ]
    },
    {
      "cell_type": "markdown",
      "metadata": {
        "id": "fGpI77ypL67Q"
      },
      "source": [
        "# Author: Anushka Jain\n"
      ]
    },
    {
      "cell_type": "code",
      "execution_count": null,
      "metadata": {
        "id": "TT1IxctLL67R",
        "outputId": "d6edb7c3-a142-4d57-f01c-411efefb35ae"
      },
      "outputs": [
        {
          "name": "stdout",
          "output_type": "stream",
          "text": [
            "    Hours  Scores\n",
            "0     2.5      21\n",
            "1     5.1      47\n",
            "2     3.2      27\n",
            "3     8.5      75\n",
            "4     3.5      30\n",
            "5     1.5      20\n",
            "6     9.2      88\n",
            "7     5.5      60\n",
            "8     8.3      81\n",
            "9     2.7      25\n",
            "10    7.7      85\n",
            "11    5.9      62\n",
            "12    4.5      41\n",
            "13    3.3      42\n",
            "14    1.1      17\n",
            "15    8.9      95\n",
            "16    2.5      30\n",
            "17    1.9      24\n",
            "18    6.1      67\n",
            "19    7.4      69\n",
            "20    2.7      30\n",
            "21    4.8      54\n",
            "22    3.8      35\n",
            "23    6.9      76\n",
            "24    7.8      86\n"
          ]
        }
      ],
      "source": [
        "#Importing Dataset\n",
        "import pandas as pd\n",
        "dataset = pd.read_csv('https://raw.githubusercontent.com/AdiPersonalWorks/Random/master/student_scores%20-%20student_scores.csv')\n",
        "print(dataset)"
      ]
    },
    {
      "cell_type": "code",
      "execution_count": null,
      "metadata": {
        "id": "LXwg6KMyL67S",
        "outputId": "87a82f82-52b9-4bfe-f33b-860336c9db04"
      },
      "outputs": [
        {
          "data": {
            "text/plain": [
              "Text(0, 0.5, 'Marks Obtained')"
            ]
          },
          "execution_count": 15,
          "metadata": {},
          "output_type": "execute_result"
        },
        {
          "data": {
            "image/png": "[encoded data removed]",
            "text/plain": [
              "<Figure size 432x288 with 1 Axes>"
            ]
          },
          "metadata": {
            "needs_background": "light"
          },
          "output_type": "display_data"
        }
      ],
      "source": [
        "#Plotting Scatterplot to visualise the relation between variables\n",
        "import matplotlib.pyplot as plt\n",
        "dataset.plot(x='Hours',y='Scores',style='o')\n",
        "plt.title('Scatter Plot of Variables')\n",
        "plt.xlabel('Hours Studies')\n",
        "plt.ylabel('Marks Obtained')"
      ]
    },
    {
      "cell_type": "code",
      "execution_count": null,
      "metadata": {
        "id": "mvgtfF39L67T",
        "outputId": "4bc67f6b-cc22-4490-eee8-4e10accb3374"
      },
      "outputs": [
        {
          "name": "stdout",
          "output_type": "stream",
          "text": [
            "Coefficient of correlation =\n"
          ]
        },
        {
          "data": {
            "text/html": [
              "<div>\n",
              "<style scoped>\n",
              "    .dataframe tbody tr th:only-of-type {\n",
              "        vertical-align: middle;\n",
              "    }\n",
              "\n",
              "    .dataframe tbody tr th {\n",
              "        vertical-align: top;\n",
              "    }\n",
              "\n",
              "    .dataframe thead th {\n",
              "        text-align: right;\n",
              "    }\n",
              "</style>\n",
              "<table border=\"1\" class=\"dataframe\">\n",
              "  <thead>\n",
              "    <tr style=\"text-align: right;\">\n",
              "      <th></th>\n",
              "      <th>Hours</th>\n",
              "      <th>Scores</th>\n",
              "    </tr>\n",
              "  </thead>\n",
              "  <tbody>\n",
              "    <tr>\n",
              "      <th>Hours</th>\n",
              "      <td>1.000000</td>\n",
              "      <td>0.976191</td>\n",
              "    </tr>\n",
              "    <tr>\n",
              "      <th>Scores</th>\n",
              "      <td>0.976191</td>\n",
              "      <td>1.000000</td>\n",
              "    </tr>\n",
              "  </tbody>\n",
              "</table>\n",
              "</div>"
            ],
            "text/plain": [
              "           Hours    Scores\n",
              "Hours   1.000000  0.976191\n",
              "Scores  0.976191  1.000000"
            ]
          },
          "execution_count": 89,
          "metadata": {},
          "output_type": "execute_result"
        }
      ],
      "source": [
        "print('Coefficient of correlation:')\n",
        "dataset.corr()"
      ]
    },
    {
      "cell_type": "markdown",
      "metadata": {
        "id": "BZtvQyOfL67U"
      },
      "source": [
        "It can be seen that correlation between the two variables is positive and high. Thus, number of hours studied have a direct relation with Scores Obtained."
      ]
    },
    {
      "cell_type": "markdown",
      "metadata": {
        "id": "UaGC11IXL67V"
      },
      "source": [
        "# Performing Linear Regression"
      ]
    },
    {
      "cell_type": "code",
      "execution_count": null,
      "metadata": {
        "id": "g_8PVyinL67V",
        "outputId": "341c007c-37a2-43e3-bed9-930449e0ddcc"
      },
      "outputs": [
        {
          "name": "stdout",
          "output_type": "stream",
          "text": [
            "x= [[2.5]\n",
            " [5.1]\n",
            " [3.2]\n",
            " [8.5]\n",
            " [3.5]\n",
            " [1.5]\n",
            " [9.2]\n",
            " [5.5]\n",
            " [8.3]\n",
            " [2.7]\n",
            " [7.7]\n",
            " [5.9]\n",
            " [4.5]\n",
            " [3.3]\n",
            " [1.1]\n",
            " [8.9]\n",
            " [2.5]\n",
            " [1.9]\n",
            " [6.1]\n",
            " [7.4]\n",
            " [2.7]\n",
            " [4.8]\n",
            " [3.8]\n",
            " [6.9]\n",
            " [7.8]]\n",
            "y= [21 47 27 75 30 20 88 60 81 25 85 62 41 42 17 95 30 24 67 69 30 54 35 76\n",
            " 86]\n"
          ]
        }
      ],
      "source": [
        "#Creating arrays from table\n",
        "import numpy as np\n",
        "Hours = dataset.Hours\n",
        "x=np.array(Hours).reshape(-1,1)  #to convert into 2d array\n",
        "print('x=',x)\n",
        "Scores = dataset.Scores\n",
        "y=np.array(Scores)\n",
        "print('y=',y)"
      ]
    },
    {
      "cell_type": "code",
      "execution_count": null,
      "metadata": {
        "id": "7Lm5pYEAL67W"
      },
      "outputs": [],
      "source": [
        "from sklearn.linear_model import LinearRegression\n",
        "#creating linear regression model\n",
        "model=LinearRegression()\n",
        "model.fit(x,y)"
      ]
    },
    {
      "cell_type": "markdown",
      "metadata": {
        "id": "FEZ2ubioL67X"
      },
      "source": [
        "Testing the fit:"
      ]
    },
    {
      "cell_type": "code",
      "execution_count": null,
      "metadata": {
        "id": "XFlxJpA0L67X",
        "outputId": "d2f6b9bd-0982-44f7-9a43-c98ab8e158d0"
      },
      "outputs": [
        {
          "name": "stdout",
          "output_type": "stream",
          "text": [
            "coefficient of determination: 0.9529481969048356\n"
          ]
        }
      ],
      "source": [
        "#Finding Coefficient of Determination (R^2)\n",
        "r_sq = model.score(x, y)\n",
        "print('Coefficient of determination:', r_sq)"
      ]
    },
    {
      "cell_type": "markdown",
      "metadata": {
        "id": "9rXNaGh3L67X"
      },
      "source": [
        "Hence, Regression Equation thus obtained is a good fit for the data."
      ]
    },
    {
      "cell_type": "code",
      "execution_count": null,
      "metadata": {
        "id": "iyQsyHciL67Y",
        "outputId": "d3ecf750-3480-4b78-b338-f74919509a38"
      },
      "outputs": [
        {
          "name": "stdout",
          "output_type": "stream",
          "text": [
            "intercept (b0) : 2.48367340537321\n",
            "slope (b1) : [9.77580339]\n"
          ]
        }
      ],
      "source": [
        "#Finding b0 and b1:\n",
        "print('intercept (b0) :', model.intercept_)\n",
        "print('slope (b1) :', model.coef_)"
      ]
    },
    {
      "cell_type": "markdown",
      "metadata": {
        "id": "zk60vg58L67Y"
      },
      "source": [
        "b0 = 2.48 means that when x=0, the model predicts y=2.48\n",
        "b1 = 9.78 means that when x rises by 1, the predicted response rises by 9.78"
      ]
    },
    {
      "cell_type": "markdown",
      "metadata": {
        "id": "hAu1nmrPL67Y"
      },
      "source": [
        "# Predicting Response\n",
        "## Task is to predict score if a student studies for 9.25 hrs/day"
      ]
    },
    {
      "cell_type": "code",
      "execution_count": null,
      "metadata": {
        "id": "FpiEgJ0CL67Z",
        "outputId": "9a52e0f2-6683-44a5-fe03-e564b00d27a7"
      },
      "outputs": [
        {
          "name": "stdout",
          "output_type": "stream",
          "text": [
            "Predicted Values:\n",
            "[26.92318188 52.3402707  33.76624426 85.57800223 36.69898527 17.14737849\n",
            " 92.4210646  56.25059205 83.62284155 28.87834256 77.75735951 60.16091341\n",
            " 46.47478866 34.74382459 13.23705714 89.48832358 26.92318188 21.05769985\n",
            " 62.11607409 74.8246185  28.87834256 49.40752968 39.63172629 69.9367168\n",
            " 78.73493985]\n"
          ]
        }
      ],
      "source": [
        "predicted_y = model.predict(x)\n",
        "print('Predicted Values:')\n",
        "print(predicted_y)"
      ]
    },
    {
      "cell_type": "code",
      "execution_count": null,
      "metadata": {
        "id": "XEuM8QdlL67Z",
        "outputId": "ed7fd8f5-6e14-49c3-f4f1-56cfa052369f"
      },
      "outputs": [
        {
          "name": "stdout",
          "output_type": "stream",
          "text": [
            "    Hours  Scores  Predicted scores\n",
            "0     2.5      21         26.923182\n",
            "1     5.1      47         52.340271\n",
            "2     3.2      27         33.766244\n",
            "3     8.5      75         85.578002\n",
            "4     3.5      30         36.698985\n",
            "5     1.5      20         17.147378\n",
            "6     9.2      88         92.421065\n",
            "7     5.5      60         56.250592\n",
            "8     8.3      81         83.622842\n",
            "9     2.7      25         28.878343\n",
            "10    7.7      85         77.757360\n",
            "11    5.9      62         60.160913\n",
            "12    4.5      41         46.474789\n",
            "13    3.3      42         34.743825\n",
            "14    1.1      17         13.237057\n",
            "15    8.9      95         89.488324\n",
            "16    2.5      30         26.923182\n",
            "17    1.9      24         21.057700\n",
            "18    6.1      67         62.116074\n",
            "19    7.4      69         74.824618\n",
            "20    2.7      30         28.878343\n",
            "21    4.8      54         49.407530\n",
            "22    3.8      35         39.631726\n",
            "23    6.9      76         69.936717\n",
            "24    7.8      86         78.734940\n"
          ]
        }
      ],
      "source": [
        "#Creating a table for better understanding:\n",
        "import pandas as pd\n",
        "new_dataset = pd.DataFrame({'Hours':dataset.Hours,'Scores':y,'Predicted scores':predicted_y})\n",
        "print(new_dataset)"
      ]
    },
    {
      "cell_type": "code",
      "execution_count": null,
      "metadata": {
        "id": "M_s_EPXeL67Z",
        "outputId": "df126571-b9df-40b8-d41d-c0b682929a75"
      },
      "outputs": [
        {
          "name": "stdout",
          "output_type": "stream",
          "text": [
            "Hours: [[9.25]]\n",
            "Predicted Score: [92.90985477]\n"
          ]
        }
      ],
      "source": [
        "#Predicting score for 9.25 hours of study\n",
        "x_new=np.array(9.25).reshape(-1,1)\n",
        "print('Hours:',x_new)\n",
        "y_new = model.predict(x_new)\n",
        "print('Predicted Score:',y_new)"
      ]
    }
  ],
  "metadata": {
    "kernelspec": {
      "display_name": "Python 3",
      "language": "python",
      "name": "python3"
    },
    "language_info": {
      "codemirror_mode": {
        "name": "ipython",
        "version": 3
      },
      "file_extension": ".py",
      "mimetype": "text/x-python",
      "name": "python",
      "nbconvert_exporter": "python",
      "pygments_lexer": "ipython3",
      "version": "3.8.3"
    },
    "colab": {
      "name": "Data Science and Business Analytics_Task 1.ipynb",
      "provenance": [],
      "include_colab_link": true
    }
  },
  "nbformat": 4,
  "nbformat_minor": 0
}